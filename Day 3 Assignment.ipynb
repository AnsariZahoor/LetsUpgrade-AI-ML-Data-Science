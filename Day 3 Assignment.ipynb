{
 "cells": [
  {
   "cell_type": "code",
   "execution_count": 2,
   "metadata": {},
   "outputs": [
    {
     "name": "stdout",
     "output_type": "stream",
     "text": [
      "1.18.1\n"
     ]
    }
   ],
   "source": [
    "import numpy as np\n",
    "print(np.__version__)"
   ]
  },
  {
   "cell_type": "markdown",
   "metadata": {},
   "source": [
    "# Questions 1:\n",
    "Create a numpy array starting from 2 till 50 with a stepsize of 3."
   ]
  },
  {
   "cell_type": "code",
   "execution_count": 5,
   "metadata": {},
   "outputs": [
    {
     "data": {
      "text/plain": [
       "array([ 2,  5,  8, 11, 14, 17, 20, 23, 26, 29, 32, 35, 38, 41, 44, 47, 50])"
      ]
     },
     "execution_count": 5,
     "metadata": {},
     "output_type": "execute_result"
    }
   ],
   "source": [
    "np.arange(2,51,3)"
   ]
  },
  {
   "cell_type": "markdown",
   "metadata": {},
   "source": [
    "# Questions 2:\n",
    "Accept two lists of 5 elements each from the user.\n",
    "Convert them to numpy arrays. Concatenate these arrays and print it. Also sort these arrays and print it."
   ]
  },
  {
   "cell_type": "code",
   "execution_count": 27,
   "metadata": {},
   "outputs": [
    {
     "name": "stdout",
     "output_type": "stream",
     "text": [
      "96\n",
      "56\n",
      "23\n",
      "45\n",
      "85\n",
      "36\n",
      "Numpy array of List 1.......... [96 56 23 45 85 36]\n",
      "22\n",
      "05\n",
      "65\n",
      "93\n",
      "110\n",
      "633\n",
      "Numpy array of List 2.......... [ 22   5  65  93 110 633]\n",
      "------------------------\n",
      "Concatenated arrays............. [ 96  56  23  45  85  36  22   5  65  93 110 633]\n",
      "------------------------\n",
      "sorted arrays................... [  5  22  23  36  45  56  65  85  93  96 110 633]\n"
     ]
    }
   ],
   "source": [
    "lst1 = []\n",
    "lst2 = []\n",
    "\n",
    "\n",
    "for i in range(0,6):\n",
    "    user_input = int(input())\n",
    "    lst1.append(user_input)\n",
    "np_lst1 = np.array(lst1)\n",
    "print('Numpy array of List 1..........',np_lst1)\n",
    "\n",
    "for i in range(0,6):\n",
    "    user_input =int(input())\n",
    "    lst2.append(user_input)\n",
    "np_lst2 = np.array(lst2)\n",
    "print('Numpy array of List 2..........',np_lst2)\n",
    "print('------------------------')\n",
    "\n",
    "np_concat = np.concatenate((np_lst1,np_lst2), axis = None)\n",
    "np_sort = np.sort(np_concat)\n",
    "\n",
    "print('Concatenated arrays.............',np_concat)\n",
    "print('------------------------')\n",
    "print('sorted arrays...................',np_sort)"
   ]
  },
  {
   "cell_type": "markdown",
   "metadata": {},
   "source": [
    "# Questions 3:\n",
    "Write a code snippet to find the dimensions of a ndarray and its size."
   ]
  },
  {
   "cell_type": "code",
   "execution_count": 44,
   "metadata": {},
   "outputs": [
    {
     "name": "stdout",
     "output_type": "stream",
     "text": [
      "Array......... [0 1 2 3 4 5 6 7 8 9]\n",
      "Dimensions.... 1\n",
      "Size.......... 10\n"
     ]
    }
   ],
   "source": [
    "arr = np.arange(0,10)\n",
    "print('Array.........',arr)\n",
    "print('Dimensions....',arr.ndim)\n",
    "print('Size..........',arr.size)"
   ]
  },
  {
   "cell_type": "code",
   "execution_count": 49,
   "metadata": {},
   "outputs": [
    {
     "name": "stdout",
     "output_type": "stream",
     "text": [
      "[[0 1]\n",
      " [2 3]\n",
      " [4 5]\n",
      " [6 7]\n",
      " [8 9]]\n",
      "\n",
      "Dimensions.... 2\n",
      "Size.......... 10\n"
     ]
    }
   ],
   "source": [
    "arr = np.arange(0,10).reshape(5,2)\n",
    "print(arr)\n",
    "print('\\nDimensions....',arr.ndim) \n",
    "print('Size..........',arr.size)"
   ]
  },
  {
   "cell_type": "code",
   "execution_count": 52,
   "metadata": {},
   "outputs": [
    {
     "name": "stdout",
     "output_type": "stream",
     "text": [
      "[[[ 0  1  2  3  4]\n",
      "  [ 5  6  7  8  9]]\n",
      "\n",
      " [[10 11 12 13 14]\n",
      "  [15 16 17 18 19]]]\n",
      "\n",
      "Dimensions.... 3\n",
      "Size.......... 20\n"
     ]
    }
   ],
   "source": [
    "arr = np.arange(0,20).reshape(2,2,5)\n",
    "print(arr)\n",
    "print('\\nDimensions....',arr.ndim) \n",
    "print('Size..........',arr.size)"
   ]
  },
  {
   "cell_type": "code",
   "execution_count": 54,
   "metadata": {
    "scrolled": true
   },
   "outputs": [
    {
     "name": "stdout",
     "output_type": "stream",
     "text": [
      "[[[[ 0  1]\n",
      "   [ 2  3]\n",
      "   [ 4  5]\n",
      "   [ 6  7]\n",
      "   [ 8  9]]\n",
      "\n",
      "  [[10 11]\n",
      "   [12 13]\n",
      "   [14 15]\n",
      "   [16 17]\n",
      "   [18 19]]]\n",
      "\n",
      "\n",
      " [[[20 21]\n",
      "   [22 23]\n",
      "   [24 25]\n",
      "   [26 27]\n",
      "   [28 29]]\n",
      "\n",
      "  [[30 31]\n",
      "   [32 33]\n",
      "   [34 35]\n",
      "   [36 37]\n",
      "   [38 39]]]]\n",
      "\n",
      "Dimensions.... 4\n",
      "Size.......... 40\n"
     ]
    }
   ],
   "source": [
    "arr = np.arange(0,40).reshape(2,2,5,2)\n",
    "print(arr)\n",
    "print('\\nDimensions....',arr.ndim) \n",
    "print('Size..........',arr.size)"
   ]
  },
  {
   "cell_type": "markdown",
   "metadata": {},
   "source": [
    "# Questions 4:\n",
    "How to convert a 1D array into a 2D array? Demonstrate with the help of a code snippet\n",
    "Hint: np.newaxis, np.expand_dims"
   ]
  },
  {
   "cell_type": "code",
   "execution_count": 76,
   "metadata": {},
   "outputs": [
    {
     "name": "stdout",
     "output_type": "stream",
     "text": [
      "1D Array :\n",
      "[1 2 3 4 5 6 7 8 9]\n",
      "\n",
      " 2D Array :\n",
      "[[1 2 3 4 5 6 7 8 9]]\n"
     ]
    }
   ],
   "source": [
    "arr1d = np.array([1,2,3,4,5,6,7,8,9])\n",
    "print('1D Array :')\n",
    "print(arr1d)\n",
    "\n",
    "arr2d = np.expand_dims(arr1d, axis=0)\n",
    "print('\\n 2D Array :')\n",
    "print(arr2d)\n"
   ]
  },
  {
   "cell_type": "markdown",
   "metadata": {},
   "source": [
    "# Questions 5:\n",
    "Consider two square numpy arrays. Stack them vertically and horizontally.\n",
    "Hint: Use vstack(), hstack()"
   ]
  },
  {
   "cell_type": "code",
   "execution_count": 87,
   "metadata": {},
   "outputs": [
    {
     "name": "stdout",
     "output_type": "stream",
     "text": [
      "vertically Stack :\n",
      "[[1 2]\n",
      " [3 4]\n",
      " [5 6]\n",
      " [7 8]]\n",
      "\n",
      " horizontally Stack :\n",
      "[[1 2 5 6]\n",
      " [3 4 7 8]]\n"
     ]
    }
   ],
   "source": [
    "arr1 = np.array([[1,2],[3,4]])\n",
    "arr2 = np.array([[5,6],[7,8]])\n",
    "\n",
    "vertical_arr = np.vstack((arr1,arr2))\n",
    "horizontal_arr = np.hstack((arr1,arr2))\n",
    "\n",
    "print('vertically Stack :')\n",
    "print(vertical_arr)\n",
    "\n",
    "print('\\n horizontally Stack :')\n",
    "print(horizontal_arr)"
   ]
  },
  {
   "cell_type": "markdown",
   "metadata": {},
   "source": [
    "# Questions 6:\n",
    "How to get unique items and counts of unique items?"
   ]
  },
  {
   "cell_type": "code",
   "execution_count": 91,
   "metadata": {},
   "outputs": [
    {
     "name": "stdout",
     "output_type": "stream",
     "text": [
      "No of unique items are: 8\n"
     ]
    }
   ],
   "source": [
    "input_list = [1,2,3,4,4,5,6,7,8,8,8] \n",
    "\n",
    "l1 = [] \n",
    "\n",
    "count = 0\n",
    "\n",
    "for item in input_list: \n",
    "    if item not in l1: \n",
    "        count += 1\n",
    "        l1.append(item) \n",
    "\n",
    "\n",
    "print(\"No of unique items are:\", count) "
   ]
  }
 ],
 "metadata": {
  "kernelspec": {
   "display_name": "Python 3",
   "language": "python",
   "name": "python3"
  },
  "language_info": {
   "codemirror_mode": {
    "name": "ipython",
    "version": 3
   },
   "file_extension": ".py",
   "mimetype": "text/x-python",
   "name": "python",
   "nbconvert_exporter": "python",
   "pygments_lexer": "ipython3",
   "version": "3.7.6"
  }
 },
 "nbformat": 4,
 "nbformat_minor": 4
}
